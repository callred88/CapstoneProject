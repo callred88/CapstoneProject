{
 "cells": [
  {
   "cell_type": "markdown",
   "metadata": {},
   "source": [
    "##### Imports"
   ]
  },
  {
   "cell_type": "code",
   "execution_count": 29,
   "metadata": {},
   "outputs": [],
   "source": [
    "import pandas as pd\n",
    "import matplotlib.pyplot as plt\n",
    "import mysql.connector as connection\n",
    "from sklearn.linear_model import LinearRegression\n"
   ]
  },
  {
   "cell_type": "markdown",
   "metadata": {},
   "source": [
    "##### Start the Cleaning process"
   ]
  },
  {
   "cell_type": "code",
   "execution_count": 30,
   "metadata": {},
   "outputs": [
    {
     "data": {
      "text/html": [
       "<div>\n",
       "<style scoped>\n",
       "    .dataframe tbody tr th:only-of-type {\n",
       "        vertical-align: middle;\n",
       "    }\n",
       "\n",
       "    .dataframe tbody tr th {\n",
       "        vertical-align: top;\n",
       "    }\n",
       "\n",
       "    .dataframe thead th {\n",
       "        text-align: right;\n",
       "    }\n",
       "</style>\n",
       "<table border=\"1\" class=\"dataframe\">\n",
       "  <thead>\n",
       "    <tr style=\"text-align: right;\">\n",
       "      <th></th>\n",
       "      <th>Year_of_Rank</th>\n",
       "      <th>Award_Category</th>\n",
       "      <th>Name</th>\n",
       "      <th>Park</th>\n",
       "      <th>Location</th>\n",
       "      <th>Supplier</th>\n",
       "      <th>Year_Built</th>\n",
       "    </tr>\n",
       "    <tr>\n",
       "      <th>Rank</th>\n",
       "      <th></th>\n",
       "      <th></th>\n",
       "      <th></th>\n",
       "      <th></th>\n",
       "      <th></th>\n",
       "      <th></th>\n",
       "      <th></th>\n",
       "    </tr>\n",
       "  </thead>\n",
       "  <tbody>\n",
       "    <tr>\n",
       "      <th>1</th>\n",
       "      <td>2022</td>\n",
       "      <td>Steel</td>\n",
       "      <td>Fury 325</td>\n",
       "      <td>Carowinds</td>\n",
       "      <td>Charlotte, North Carolina</td>\n",
       "      <td>B&amp;M</td>\n",
       "      <td>2015</td>\n",
       "    </tr>\n",
       "    <tr>\n",
       "      <th>2</th>\n",
       "      <td>2022</td>\n",
       "      <td>Steel</td>\n",
       "      <td>Steel Vengeance</td>\n",
       "      <td>Cedar Point</td>\n",
       "      <td>Sandusky, Ohio</td>\n",
       "      <td>Rocky Mountain Const.</td>\n",
       "      <td>2018</td>\n",
       "    </tr>\n",
       "    <tr>\n",
       "      <th>3</th>\n",
       "      <td>2022</td>\n",
       "      <td>Steel</td>\n",
       "      <td>Millennium Force</td>\n",
       "      <td>Cedar Point</td>\n",
       "      <td>Sandusky, Ohio</td>\n",
       "      <td>Intamin</td>\n",
       "      <td>2000</td>\n",
       "    </tr>\n",
       "    <tr>\n",
       "      <th>4</th>\n",
       "      <td>2022</td>\n",
       "      <td>Steel</td>\n",
       "      <td>Iron Gwazi</td>\n",
       "      <td>Busch Gardens Tampa</td>\n",
       "      <td>Tampa, Florida</td>\n",
       "      <td>Rocky Mountain Const.</td>\n",
       "      <td>2022</td>\n",
       "    </tr>\n",
       "    <tr>\n",
       "      <th>5</th>\n",
       "      <td>2022</td>\n",
       "      <td>Steel</td>\n",
       "      <td>Jurassic World VelociCoaster</td>\n",
       "      <td>Universal's Islands of Adventure</td>\n",
       "      <td>Orlando, Florida</td>\n",
       "      <td>Intamin</td>\n",
       "      <td>2021</td>\n",
       "    </tr>\n",
       "  </tbody>\n",
       "</table>\n",
       "</div>"
      ],
      "text/plain": [
       "     Year_of_Rank Award_Category                          Name   \n",
       "Rank                                                             \n",
       "1            2022          Steel                      Fury 325  \\\n",
       "2            2022          Steel               Steel Vengeance   \n",
       "3            2022          Steel              Millennium Force   \n",
       "4            2022          Steel                    Iron Gwazi   \n",
       "5            2022          Steel  Jurassic World VelociCoaster   \n",
       "\n",
       "                                  Park                   Location   \n",
       "Rank                                                                \n",
       "1                            Carowinds  Charlotte, North Carolina  \\\n",
       "2                          Cedar Point             Sandusky, Ohio   \n",
       "3                          Cedar Point             Sandusky, Ohio   \n",
       "4                  Busch Gardens Tampa             Tampa, Florida   \n",
       "5     Universal's Islands of Adventure           Orlando, Florida   \n",
       "\n",
       "                   Supplier Year_Built  \n",
       "Rank                                    \n",
       "1                       B&M       2015  \n",
       "2     Rocky Mountain Const.       2018  \n",
       "3                   Intamin       2000  \n",
       "4     Rocky Mountain Const.       2022  \n",
       "5                   Intamin       2021  "
      ]
     },
     "execution_count": 30,
     "metadata": {},
     "output_type": "execute_result"
    }
   ],
   "source": [
    "cleansc_df = pd.read_csv(\"steel_coasters.csv\", index_col= \"Rank\")\n",
    "cleansc_df.head()"
   ]
  },
  {
   "cell_type": "code",
   "execution_count": 31,
   "metadata": {},
   "outputs": [
    {
     "name": "stdout",
     "output_type": "stream",
     "text": [
      "<class 'pandas.core.frame.DataFrame'>\n",
      "Index: 605 entries, 1 to 50\n",
      "Data columns (total 7 columns):\n",
      " #   Column          Non-Null Count  Dtype \n",
      "---  ------          --------------  ----- \n",
      " 0   Year_of_Rank    605 non-null    object\n",
      " 1   Award_Category  605 non-null    object\n",
      " 2   Name            605 non-null    object\n",
      " 3   Park            605 non-null    object\n",
      " 4   Location        605 non-null    object\n",
      " 5   Supplier        605 non-null    object\n",
      " 6   Year_Built      605 non-null    object\n",
      "dtypes: object(7)\n",
      "memory usage: 37.8+ KB\n"
     ]
    }
   ],
   "source": [
    "cleansc_nonull_df = cleansc_df.dropna()\n",
    "cleansc_nonull_df.info()"
   ]
  },
  {
   "cell_type": "code",
   "execution_count": 32,
   "metadata": {},
   "outputs": [
    {
     "data": {
      "text/plain": [
       "Rank\n",
       "1     False\n",
       "2     False\n",
       "3     False\n",
       "4     False\n",
       "5     False\n",
       "      ...  \n",
       "46    False\n",
       "47    False\n",
       "48    False\n",
       "48    False\n",
       "50    False\n",
       "Length: 605, dtype: bool"
      ]
     },
     "execution_count": 32,
     "metadata": {},
     "output_type": "execute_result"
    }
   ],
   "source": [
    "cleansc_nonull_df.duplicated()"
   ]
  },
  {
   "cell_type": "code",
   "execution_count": 33,
   "metadata": {},
   "outputs": [],
   "source": [
    "cleansc_nonull_df.to_csv(\"clean_sc.csv\", encoding= \"utf-8\")"
   ]
  },
  {
   "cell_type": "code",
   "execution_count": 34,
   "metadata": {},
   "outputs": [
    {
     "data": {
      "text/html": [
       "<div>\n",
       "<style scoped>\n",
       "    .dataframe tbody tr th:only-of-type {\n",
       "        vertical-align: middle;\n",
       "    }\n",
       "\n",
       "    .dataframe tbody tr th {\n",
       "        vertical-align: top;\n",
       "    }\n",
       "\n",
       "    .dataframe thead th {\n",
       "        text-align: right;\n",
       "    }\n",
       "</style>\n",
       "<table border=\"1\" class=\"dataframe\">\n",
       "  <thead>\n",
       "    <tr style=\"text-align: right;\">\n",
       "      <th></th>\n",
       "      <th>Year_of_Rank</th>\n",
       "      <th>Award_Category</th>\n",
       "      <th>Name</th>\n",
       "      <th>Park</th>\n",
       "      <th>Location</th>\n",
       "      <th>Supplier</th>\n",
       "      <th>Year_Built</th>\n",
       "    </tr>\n",
       "    <tr>\n",
       "      <th>Rank</th>\n",
       "      <th></th>\n",
       "      <th></th>\n",
       "      <th></th>\n",
       "      <th></th>\n",
       "      <th></th>\n",
       "      <th></th>\n",
       "      <th></th>\n",
       "    </tr>\n",
       "  </thead>\n",
       "  <tbody>\n",
       "    <tr>\n",
       "      <th>1</th>\n",
       "      <td>2022</td>\n",
       "      <td>Wooden</td>\n",
       "      <td>Phoenix</td>\n",
       "      <td>Knoebels Amusement Resort</td>\n",
       "      <td>Elysburg, Pennsylvania</td>\n",
       "      <td>Dinn-PTC/Shmeck</td>\n",
       "      <td>1985</td>\n",
       "    </tr>\n",
       "    <tr>\n",
       "      <th>2</th>\n",
       "      <td>2022</td>\n",
       "      <td>Wooden</td>\n",
       "      <td>Voyage</td>\n",
       "      <td>Holiday World</td>\n",
       "      <td>Santa Claus, Indiana</td>\n",
       "      <td>The Gravity Group</td>\n",
       "      <td>2006</td>\n",
       "    </tr>\n",
       "    <tr>\n",
       "      <th>3</th>\n",
       "      <td>2022</td>\n",
       "      <td>Wooden</td>\n",
       "      <td>El Toro</td>\n",
       "      <td>Six Flags Great Adventure</td>\n",
       "      <td>Jackson, New Jersey</td>\n",
       "      <td>Intamin</td>\n",
       "      <td>2006</td>\n",
       "    </tr>\n",
       "    <tr>\n",
       "      <th>4</th>\n",
       "      <td>2022</td>\n",
       "      <td>Wooden</td>\n",
       "      <td>Boulder Dash</td>\n",
       "      <td>Lake Compounce</td>\n",
       "      <td>Bristol, Connecticut</td>\n",
       "      <td>Custom Coasters Int.</td>\n",
       "      <td>2000</td>\n",
       "    </tr>\n",
       "    <tr>\n",
       "      <th>5</th>\n",
       "      <td>2022</td>\n",
       "      <td>Wooden</td>\n",
       "      <td>Beast</td>\n",
       "      <td>Kings Island</td>\n",
       "      <td>Mason, Ohio</td>\n",
       "      <td>KECO</td>\n",
       "      <td>1979</td>\n",
       "    </tr>\n",
       "  </tbody>\n",
       "</table>\n",
       "</div>"
      ],
      "text/plain": [
       "     Year_of_Rank Award_Category          Name                       Park   \n",
       "Rank                                                                        \n",
       "1            2022         Wooden       Phoenix  Knoebels Amusement Resort  \\\n",
       "2            2022         Wooden        Voyage              Holiday World   \n",
       "3            2022         Wooden       El Toro  Six Flags Great Adventure   \n",
       "4            2022         Wooden  Boulder Dash             Lake Compounce   \n",
       "5            2022         Wooden         Beast               Kings Island   \n",
       "\n",
       "                    Location              Supplier Year_Built  \n",
       "Rank                                                           \n",
       "1     Elysburg, Pennsylvania       Dinn-PTC/Shmeck       1985  \n",
       "2       Santa Claus, Indiana     The Gravity Group       2006  \n",
       "3        Jackson, New Jersey               Intamin       2006  \n",
       "4       Bristol, Connecticut  Custom Coasters Int.       2000  \n",
       "5                Mason, Ohio                  KECO       1979  "
      ]
     },
     "execution_count": 34,
     "metadata": {},
     "output_type": "execute_result"
    }
   ],
   "source": [
    "cleanwc_df = pd.read_csv(\"wood_coasters.csv\", index_col= \"Rank\")\n",
    "cleanwc_df.head()"
   ]
  },
  {
   "cell_type": "code",
   "execution_count": 35,
   "metadata": {},
   "outputs": [
    {
     "name": "stdout",
     "output_type": "stream",
     "text": [
      "<class 'pandas.core.frame.DataFrame'>\n",
      "Index: 605 entries, 1 to 50\n",
      "Data columns (total 7 columns):\n",
      " #   Column          Non-Null Count  Dtype \n",
      "---  ------          --------------  ----- \n",
      " 0   Year_of_Rank    605 non-null    object\n",
      " 1   Award_Category  605 non-null    object\n",
      " 2   Name            605 non-null    object\n",
      " 3   Park            605 non-null    object\n",
      " 4   Location        605 non-null    object\n",
      " 5   Supplier        605 non-null    object\n",
      " 6   Year_Built      605 non-null    object\n",
      "dtypes: object(7)\n",
      "memory usage: 37.8+ KB\n"
     ]
    }
   ],
   "source": [
    "cleanwc_nonull_df = cleanwc_df.dropna()\n",
    "cleanwc_nonull_df.info()"
   ]
  },
  {
   "cell_type": "code",
   "execution_count": 36,
   "metadata": {},
   "outputs": [
    {
     "data": {
      "text/plain": [
       "Rank\n",
       "1     False\n",
       "2     False\n",
       "3     False\n",
       "4     False\n",
       "5     False\n",
       "      ...  \n",
       "46    False\n",
       "47    False\n",
       "47    False\n",
       "49    False\n",
       "50    False\n",
       "Length: 605, dtype: bool"
      ]
     },
     "execution_count": 36,
     "metadata": {},
     "output_type": "execute_result"
    }
   ],
   "source": [
    "cleanwc_nonull_df.duplicated()"
   ]
  },
  {
   "cell_type": "code",
   "execution_count": 37,
   "metadata": {},
   "outputs": [],
   "source": [
    "cleanwc_nonull_df.to_csv(\"clean_wc.csv\", encoding= \"utf-8\")"
   ]
  }
 ],
 "metadata": {
  "kernelspec": {
   "display_name": "Python 3",
   "language": "python",
   "name": "python3"
  },
  "language_info": {
   "codemirror_mode": {
    "name": "ipython",
    "version": 3
   },
   "file_extension": ".py",
   "mimetype": "text/x-python",
   "name": "python",
   "nbconvert_exporter": "python",
   "pygments_lexer": "ipython3",
   "version": "3.11.1"
  },
  "orig_nbformat": 4
 },
 "nbformat": 4,
 "nbformat_minor": 2
}
